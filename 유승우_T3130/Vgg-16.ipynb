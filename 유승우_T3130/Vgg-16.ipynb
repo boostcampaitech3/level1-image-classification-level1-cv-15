{
 "cells": [
  {
   "cell_type": "code",
   "execution_count": 1,
   "id": "761832e7-1d6c-4ae0-8fe5-2da349eeb8bc",
   "metadata": {},
   "outputs": [],
   "source": [
    "import numpy as np\n",
    "import pandas as pd\n",
    "import matplotlib as mpl\n",
    "import matplotlib.pyplot as plt\n",
    "import matplotlib.image as img\n",
    "import torch\n",
    "import torch.nn as nn\n",
    "import torch.nn.functional as F\n",
    "import torch.optim as optim\n",
    "from PIL import Image\n",
    "import torchvision\n",
    "from torchvision import transforms\n",
    "from torch.utils.data import Dataset, DataLoader\n",
    "from torch.nn.modules.pooling import MaxPool2d\n",
    "from glob import glob\n",
    "import warnings\n",
    "import os\n",
    "warnings.filterwarnings('ignore')"
   ]
  },
  {
   "cell_type": "code",
   "execution_count": 2,
   "id": "c6adf4e0-fa0c-4e34-b784-753f6f5974f7",
   "metadata": {},
   "outputs": [
    {
     "name": "stdout",
     "output_type": "stream",
     "text": [
      "cuda:0\n"
     ]
    }
   ],
   "source": [
    "device = torch.device('cuda:0' if torch.cuda.is_available() else 'cpu')\n",
    "print(device)"
   ]
  },
  {
   "cell_type": "code",
   "execution_count": 3,
   "id": "033426c0-85e0-44f3-a7ac-c4b52fede28e",
   "metadata": {},
   "outputs": [],
   "source": [
    "train_df = pd.read_csv(\"../input/data/train/preprocessing_data.csv\")\n",
    "train_df = train_df.sort_values(\"id\")"
   ]
  },
  {
   "cell_type": "code",
   "execution_count": 4,
   "id": "4ed04353-a5d7-4b22-aa00-28d7b6f1a95a",
   "metadata": {},
   "outputs": [],
   "source": [
    "transform = transforms.Compose([\n",
    "    transforms.Resize((512, 384), Image.BILINEAR),\n",
    "    transforms.CenterCrop(224),\n",
    "    transforms.RandomHorizontalFlip(),\n",
    "    transforms.ColorJitter(0.5,0.5,0.5,0.5),\n",
    "    transforms.ToTensor(),\n",
    "    transforms.Normalize(mean=(0.485, 0.456, 0.406), std=(0.229, 0.224, 0.225)),\n",
    "])"
   ]
  },
  {
   "cell_type": "code",
   "execution_count": 5,
   "id": "6caa9d7b-a701-4a19-9dce-bdce660e4da2",
   "metadata": {},
   "outputs": [],
   "source": [
    "from sklearn.model_selection import KFold\n",
    "\n",
    "kf = KFold(n_splits=5, shuffle=False)\n",
    "\n",
    "train_split = []\n",
    "test_split = []\n",
    "for train_index, test_index in kf.split(train_df):\n",
    "    train,test = train_df[[\"image_path\",\"label\"]].loc[train_index], train_df[[\"image_path\",\"label\"]].loc[test_index]\n",
    "#     y_train, y_test, = train_df[\"label\"].loc[train_index], train_df[\"label\"].loc[test_index]\n",
    "    train_split.append(train)\n",
    "    test_split.append(test)\n"
   ]
  },
  {
   "cell_type": "code",
   "execution_count": 6,
   "id": "1a2db2f2-bf3d-4147-984c-d543363cb45c",
   "metadata": {},
   "outputs": [],
   "source": [
    "class CustomDataset(Dataset):\n",
    "    def __init__(self, dataframe, transform):\n",
    "        self.X = dataframe[\"image_path\"]\n",
    "        self.y = dataframe[\"label\"]\n",
    "        self.transform = transform\n",
    "\n",
    "    def __getitem__(self, index):\n",
    "        image = Image.open(self.X.iloc[index])\n",
    "        label = self.y.iloc[index]\n",
    "\n",
    "        if self.transform:\n",
    "            image = self.transform(image)\n",
    "        return image, torch.tensor(label)\n",
    "\n",
    "    def __len__(self):\n",
    "        return len(self.X)"
   ]
  },
  {
   "cell_type": "code",
   "execution_count": 7,
   "id": "c44fc701-21e1-4312-9dea-235d1c4615d8",
   "metadata": {},
   "outputs": [],
   "source": [
    "train_data = CustomDataset(train,transform)\n",
    "eval_data = CustomDataset(test,transform)\n",
    "train_dataloader = torch.utils.data.DataLoader(train_data, batch_size=128, shuffle=True, num_workers=1)\n",
    "eval_dataloader = torch.utils.data.DataLoader(eval_data, batch_size=128, shuffle=True, num_workers=1)"
   ]
  },
  {
   "cell_type": "code",
   "execution_count": 38,
   "id": "d0f63b07-c434-4ded-a1fa-4831aca3dc70",
   "metadata": {},
   "outputs": [],
   "source": [
    "class VGG(nn.Module):\n",
    "    def __init__(self, num_classes=18,init_weights=True):\n",
    "        super(VGG, self).__init__()\n",
    "        \n",
    "            \n",
    "        self.convlayers = nn.Sequential(\n",
    "            nn.Conv2d(in_channels=3,out_channels=64,kernel_size=3,padding=1,stride=1),\n",
    "            nn.ReLU(inplace=True),\n",
    "            nn.Conv2d(in_channels=64,out_channels=64,kernel_size=3,padding=1,stride=1),\n",
    "            nn.ReLU(inplace=True),\n",
    "            nn.MaxPool2d(2,2), # 112\n",
    "            \n",
    "            nn.Conv2d(in_channels=64,out_channels=128,kernel_size=3,padding=1,stride=1),\n",
    "            nn.ReLU(inplace=True),\n",
    "            nn.Conv2d(in_channels=128,out_channels=128,kernel_size=3,padding=1,stride=1),\n",
    "            nn.ReLU(inplace=True),\n",
    "            nn.MaxPool2d(2,2), # 56\n",
    "            \n",
    "            nn.Conv2d(in_channels=128,out_channels=256,kernel_size=3,padding=1,stride=1),\n",
    "            nn.ReLU(inplace=True),\n",
    "            nn.Conv2d(in_channels=256,out_channels=256,kernel_size=3,padding=1,stride=1),\n",
    "            nn.ReLU(inplace=True),\n",
    "            nn.Conv2d(in_channels=256,out_channels=256,kernel_size=3,padding=1,stride=1),\n",
    "            nn.ReLU(inplace=True),\n",
    "            nn.MaxPool2d(2,2), # 28\n",
    "            \n",
    "            \n",
    "            nn.Conv2d(in_channels=256,out_channels=512,kernel_size=3,padding=1,stride=1),\n",
    "            nn.ReLU(inplace=True),\n",
    "            nn.Conv2d(in_channels=512,out_channels=512,kernel_size=3,padding=1,stride=1),\n",
    "            nn.ReLU(inplace=True),\n",
    "            nn.Conv2d(in_channels=512,out_channels=512,kernel_size=3,padding=1,stride=1),\n",
    "            nn.ReLU(inplace=True),\n",
    "            nn.MaxPool2d(2,2), # 14\n",
    "            \n",
    "            nn.Conv2d(in_channels=512,out_channels=512,kernel_size=3,padding=1,stride=1),\n",
    "            nn.ReLU(inplace=True),\n",
    "            nn.Conv2d(in_channels=512,out_channels=512,kernel_size=3,padding=1,stride=1),\n",
    "            nn.ReLU(inplace=True),\n",
    "            nn.Conv2d(in_channels=512,out_channels=512,kernel_size=3,padding=1,stride=1),\n",
    "            nn.ReLU(inplace=True),\n",
    "            nn.MaxPool2d(2,2), # 7\n",
    "        )\n",
    "        if init_weights:\n",
    "            self._initialize_weights()\n",
    "            \n",
    "        self.fclayer = nn.Sequential(\n",
    "            nn.Linear(512*7*7, 4096),\n",
    "            nn.ReLU(inplace=True),\n",
    "            nn.Dropout(0.5),\n",
    "            nn.Linear(4096, 4096),\n",
    "            nn.ReLU(inplace=True),\n",
    "            nn.Dropout(0.5),\n",
    "            nn.Linear(4096,num_classes)\n",
    "        )\n",
    "        \n",
    "    def _initialize_weights(self):\n",
    "        for m in self.modules():\n",
    "            if isinstance(m, nn.Conv2d):\n",
    "                nn.init.kaiming_normal_(m.weight)\n",
    "                if m.bias is not None:\n",
    "                    nn.init.constant_(m.bias, 0)\n",
    "            elif isinstance(m, nn.Linear):\n",
    "                nn.init.normal_(m.weight, 0, 0.01)\n",
    "                nn.init.constant_(m.bias, 0)\n",
    "\n",
    "\n",
    "    def forward(self, train):\n",
    "        output = self.convlayers(train)\n",
    "        output = torch.flatten(output,1)\n",
    "        output = self.fclayer(output)\n",
    "        return output"
   ]
  },
  {
   "cell_type": "code",
   "execution_count": 57,
   "id": "f5b6d570-6237-4938-8b53-c63299438564",
   "metadata": {},
   "outputs": [],
   "source": [
    "vggnet = VGG(18).to(device)"
   ]
  },
  {
   "cell_type": "code",
   "execution_count": 58,
   "id": "8a775cf5-de37-4952-afc9-176cd468df30",
   "metadata": {},
   "outputs": [],
   "source": [
    "# Loss\n",
    "criterion = nn.CrossEntropyLoss()\n",
    "\n",
    "# optimizer \n",
    "# optimizer = optim.Adam(vggnet.parameters(),lr=0.00001)\n",
    "optimizer = optim.SGD(vggnet.parameters(),lr=0.01,momentum=0.9,weight_decay=0.0005)\n",
    "from torch.optim import lr_scheduler\n",
    "lr_scheduler = lr_scheduler.StepLR(optimizer, step_size=10, gamma = 0.1)"
   ]
  },
  {
   "cell_type": "code",
   "execution_count": 59,
   "id": "a8c1d0f6-97d2-4342-8361-68000a396d28",
   "metadata": {},
   "outputs": [],
   "source": [
    "dataloaders = {\n",
    "    \"train\" : train_dataloader,\n",
    "    \"test\" : eval_dataloader\n",
    "}"
   ]
  },
  {
   "cell_type": "code",
   "execution_count": 60,
   "id": "4d4ae315-0bf4-40b4-8a47-24f7017139ac",
   "metadata": {},
   "outputs": [],
   "source": [
    "import time\n",
    "import copy\n",
    "from tqdm.notebook import tqdm\n",
    "\n",
    "def train_model(model, dataloaders,criterion,optimizer,scheduler,num_epochs):\n",
    "    start_time = time.time()\n",
    "    max_accuracy = 0\n",
    "    min_loss = int(1e9)\n",
    "    early_stop_point = 0 \n",
    "    early_stop_limit = 2\n",
    "    stop_epoch = True\n",
    "    best_model_wts = copy.deepcopy(model.state_dict())\n",
    "    history = {'train_loss': [],\"test_loss\" : [], \"train_acc\":[],'test_acc':[]}\n",
    "    \n",
    "    for epoch in range(num_epochs):\n",
    "        for phase in ['train', 'test']:\n",
    "                if phase == 'train':\n",
    "                    model.train()  # 모델을 학습 모드로 설정\n",
    "                else:\n",
    "                    model.eval()   # 모델을 평가 모드로 설정\n",
    "\n",
    "                running_loss = 0.0\n",
    "                running_acc = 0.0\n",
    "                \n",
    "                # 데이터 반복\n",
    "                for step, (inputs, labels) in enumerate(tqdm(dataloaders[phase])):\n",
    "                    inputs, labels = inputs.to(device), labels.to(device)\n",
    "\n",
    "                    # 매개변수 경사도 0으로 초기화\n",
    "                    optimizer.zero_grad()\n",
    "\n",
    "                    # 순전파\n",
    "                    # train에서만 연산 기록 추적\n",
    "                    with torch.set_grad_enabled(phase == 'train'):\n",
    "                        outputs = model(inputs)\n",
    "                        _, preds = torch.max(outputs, 1)\n",
    "                        loss = criterion(outputs, labels)\n",
    "        \n",
    "                        if phase == 'train':\n",
    "                            loss.backward()\n",
    "                            optimizer.step()\n",
    "                        \n",
    "                    running_loss += loss.item() * inputs.size(0)\n",
    "                    running_acc += torch.sum(preds == labels.data)\n",
    "                if phase == \"train\":\n",
    "                    scheduler.step()\n",
    "\n",
    "                epoch_loss = running_loss / len(dataloaders[phase].dataset)\n",
    "                epoch_acc = running_acc / len(dataloaders[phase].dataset)\n",
    "                \n",
    "                \n",
    "                if phase == \"train\":\n",
    "                    history[\"train_loss\"].append(epoch_loss)\n",
    "                    history[\"train_acc\"].append(epoch_acc)\n",
    "                else:\n",
    "                    history[\"test_loss\"].append(epoch_loss)\n",
    "                    history[\"train_acc\"].append(epoch_loss)\n",
    "                    \n",
    "                print(f\"[Epoch : %d] [Phase : %s] epoch_loss : %.5f epoch_acc: %.2f\" % \n",
    "                      (epoch+1, phase, epoch_loss, epoch_acc))\n",
    "                \n",
    "                \n",
    "                            \n",
    "                if phase == \"test\" and max_accuracy < epoch_acc:\n",
    "                    max_accuracy = epoch_acc\n",
    "                    best_model_wts = copy.deepcopy(model.state_dict())\n",
    "                    early_stop_point = 0\n",
    "#                     for g in optimizer.param_groups:\n",
    "#                             g['lr']/=10\n",
    "                    \n",
    "                    \n",
    "                elif phase == \"test\" and max_accuracy > epoch_acc:\n",
    "                    early_stop_point += 1\n",
    "                    \n",
    "                if phase == \"test\" and min_loss > epoch_loss:\n",
    "                    min_loss = epoch_loss\n",
    "                    \n",
    "                if early_stop_point == early_stop_limit:\n",
    "                    print(\"early_stopped\")\n",
    "                    stop_epoch = False\n",
    "                    break\n",
    "                    \n",
    "                \n",
    "        if stop_epoch == False:\n",
    "            break\n",
    "                \n",
    "    print(time.time()-start_time)\n",
    "    model.load_state_dict(best_model_wts)\n",
    "    print(\"Done\")\n",
    "    return model"
   ]
  },
  {
   "cell_type": "code",
   "execution_count": 61,
   "id": "361ffd3c-5b52-47a8-bec6-961e4ee67eff",
   "metadata": {
    "tags": []
   },
   "outputs": [
    {
     "data": {
      "application/vnd.jupyter.widget-view+json": {
       "model_id": "d85dada541364d1c92dcba1992b9ac61",
       "version_major": 2,
       "version_minor": 0
      },
      "text/plain": [
       "HBox(children=(HTML(value=''), FloatProgress(value=0.0, max=119.0), HTML(value='')))"
      ]
     },
     "metadata": {},
     "output_type": "display_data"
    },
    {
     "name": "stdout",
     "output_type": "stream",
     "text": [
      "\n",
      "[Epoch : 1] [Phase : train] epoch_loss : 2.35726 epoch_acc: 0.26\n"
     ]
    },
    {
     "data": {
      "application/vnd.jupyter.widget-view+json": {
       "model_id": "fcc2539597284e0bbb8e779a35874e45",
       "version_major": 2,
       "version_minor": 0
      },
      "text/plain": [
       "HBox(children=(HTML(value=''), FloatProgress(value=0.0, max=30.0), HTML(value='')))"
      ]
     },
     "metadata": {},
     "output_type": "display_data"
    },
    {
     "name": "stdout",
     "output_type": "stream",
     "text": [
      "\n",
      "[Epoch : 1] [Phase : test] epoch_loss : 2.09762 epoch_acc: 0.37\n"
     ]
    },
    {
     "data": {
      "application/vnd.jupyter.widget-view+json": {
       "model_id": "ced2873df27b4b1487bdaaaa47389227",
       "version_major": 2,
       "version_minor": 0
      },
      "text/plain": [
       "HBox(children=(HTML(value=''), FloatProgress(value=0.0, max=119.0), HTML(value='')))"
      ]
     },
     "metadata": {},
     "output_type": "display_data"
    },
    {
     "name": "stdout",
     "output_type": "stream",
     "text": [
      "\n",
      "[Epoch : 2] [Phase : train] epoch_loss : 1.90661 epoch_acc: 0.40\n"
     ]
    },
    {
     "data": {
      "application/vnd.jupyter.widget-view+json": {
       "model_id": "fb06793549f64a9a995f721fd6f9c32d",
       "version_major": 2,
       "version_minor": 0
      },
      "text/plain": [
       "HBox(children=(HTML(value=''), FloatProgress(value=0.0, max=30.0), HTML(value='')))"
      ]
     },
     "metadata": {},
     "output_type": "display_data"
    },
    {
     "name": "stdout",
     "output_type": "stream",
     "text": [
      "\n",
      "[Epoch : 2] [Phase : test] epoch_loss : 1.67587 epoch_acc: 0.46\n"
     ]
    },
    {
     "data": {
      "application/vnd.jupyter.widget-view+json": {
       "model_id": "4977965618ff45ebbd80f37290238f88",
       "version_major": 2,
       "version_minor": 0
      },
      "text/plain": [
       "HBox(children=(HTML(value=''), FloatProgress(value=0.0, max=119.0), HTML(value='')))"
      ]
     },
     "metadata": {},
     "output_type": "display_data"
    },
    {
     "name": "stdout",
     "output_type": "stream",
     "text": [
      "\n",
      "[Epoch : 3] [Phase : train] epoch_loss : 1.51076 epoch_acc: 0.51\n"
     ]
    },
    {
     "data": {
      "application/vnd.jupyter.widget-view+json": {
       "model_id": "42a798ccd35947f88c6ad842779a41ba",
       "version_major": 2,
       "version_minor": 0
      },
      "text/plain": [
       "HBox(children=(HTML(value=''), FloatProgress(value=0.0, max=30.0), HTML(value='')))"
      ]
     },
     "metadata": {},
     "output_type": "display_data"
    },
    {
     "name": "stdout",
     "output_type": "stream",
     "text": [
      "\n",
      "[Epoch : 3] [Phase : test] epoch_loss : 1.34158 epoch_acc: 0.59\n"
     ]
    },
    {
     "data": {
      "application/vnd.jupyter.widget-view+json": {
       "model_id": "6cd9a9d2cf014e35b3c50a5cb6510d8e",
       "version_major": 2,
       "version_minor": 0
      },
      "text/plain": [
       "HBox(children=(HTML(value=''), FloatProgress(value=0.0, max=119.0), HTML(value='')))"
      ]
     },
     "metadata": {},
     "output_type": "display_data"
    },
    {
     "name": "stdout",
     "output_type": "stream",
     "text": [
      "\n",
      "[Epoch : 4] [Phase : train] epoch_loss : 1.18022 epoch_acc: 0.61\n"
     ]
    },
    {
     "data": {
      "application/vnd.jupyter.widget-view+json": {
       "model_id": "8f77109b5c5e47aeb8b6763e8363fc1a",
       "version_major": 2,
       "version_minor": 0
      },
      "text/plain": [
       "HBox(children=(HTML(value=''), FloatProgress(value=0.0, max=30.0), HTML(value='')))"
      ]
     },
     "metadata": {},
     "output_type": "display_data"
    },
    {
     "name": "stdout",
     "output_type": "stream",
     "text": [
      "\n",
      "[Epoch : 4] [Phase : test] epoch_loss : 1.17939 epoch_acc: 0.64\n"
     ]
    },
    {
     "data": {
      "application/vnd.jupyter.widget-view+json": {
       "model_id": "bc5f0f5d14f646e1adb31bfbfe11f731",
       "version_major": 2,
       "version_minor": 0
      },
      "text/plain": [
       "HBox(children=(HTML(value=''), FloatProgress(value=0.0, max=119.0), HTML(value='')))"
      ]
     },
     "metadata": {},
     "output_type": "display_data"
    },
    {
     "name": "stdout",
     "output_type": "stream",
     "text": [
      "\n",
      "[Epoch : 5] [Phase : train] epoch_loss : 0.92122 epoch_acc: 0.69\n"
     ]
    },
    {
     "data": {
      "application/vnd.jupyter.widget-view+json": {
       "model_id": "e86302a76e0e4085a692c42490c70042",
       "version_major": 2,
       "version_minor": 0
      },
      "text/plain": [
       "HBox(children=(HTML(value=''), FloatProgress(value=0.0, max=30.0), HTML(value='')))"
      ]
     },
     "metadata": {},
     "output_type": "display_data"
    },
    {
     "name": "stdout",
     "output_type": "stream",
     "text": [
      "\n",
      "[Epoch : 5] [Phase : test] epoch_loss : 1.08999 epoch_acc: 0.62\n"
     ]
    },
    {
     "data": {
      "application/vnd.jupyter.widget-view+json": {
       "model_id": "ac5919e015f947d08490d133d930bb14",
       "version_major": 2,
       "version_minor": 0
      },
      "text/plain": [
       "HBox(children=(HTML(value=''), FloatProgress(value=0.0, max=119.0), HTML(value='')))"
      ]
     },
     "metadata": {},
     "output_type": "display_data"
    },
    {
     "name": "stdout",
     "output_type": "stream",
     "text": [
      "\n",
      "[Epoch : 6] [Phase : train] epoch_loss : 0.75559 epoch_acc: 0.75\n"
     ]
    },
    {
     "data": {
      "application/vnd.jupyter.widget-view+json": {
       "model_id": "463a3df2a76047ee98299bb5786951df",
       "version_major": 2,
       "version_minor": 0
      },
      "text/plain": [
       "HBox(children=(HTML(value=''), FloatProgress(value=0.0, max=30.0), HTML(value='')))"
      ]
     },
     "metadata": {},
     "output_type": "display_data"
    },
    {
     "name": "stdout",
     "output_type": "stream",
     "text": [
      "\n",
      "[Epoch : 6] [Phase : test] epoch_loss : 0.85554 epoch_acc: 0.73\n"
     ]
    },
    {
     "data": {
      "application/vnd.jupyter.widget-view+json": {
       "model_id": "e14a02ef5b074792af5200e77b0f41b0",
       "version_major": 2,
       "version_minor": 0
      },
      "text/plain": [
       "HBox(children=(HTML(value=''), FloatProgress(value=0.0, max=119.0), HTML(value='')))"
      ]
     },
     "metadata": {},
     "output_type": "display_data"
    },
    {
     "name": "stdout",
     "output_type": "stream",
     "text": [
      "\n",
      "[Epoch : 7] [Phase : train] epoch_loss : 0.62169 epoch_acc: 0.79\n"
     ]
    },
    {
     "data": {
      "application/vnd.jupyter.widget-view+json": {
       "model_id": "b0eff15b1335494ea53fb9fb22b0588e",
       "version_major": 2,
       "version_minor": 0
      },
      "text/plain": [
       "HBox(children=(HTML(value=''), FloatProgress(value=0.0, max=30.0), HTML(value='')))"
      ]
     },
     "metadata": {},
     "output_type": "display_data"
    },
    {
     "name": "stdout",
     "output_type": "stream",
     "text": [
      "\n",
      "[Epoch : 7] [Phase : test] epoch_loss : 0.75204 epoch_acc: 0.75\n"
     ]
    },
    {
     "data": {
      "application/vnd.jupyter.widget-view+json": {
       "model_id": "663a51397957462b8b252af12a869f4d",
       "version_major": 2,
       "version_minor": 0
      },
      "text/plain": [
       "HBox(children=(HTML(value=''), FloatProgress(value=0.0, max=119.0), HTML(value='')))"
      ]
     },
     "metadata": {},
     "output_type": "display_data"
    },
    {
     "name": "stdout",
     "output_type": "stream",
     "text": [
      "\n",
      "[Epoch : 8] [Phase : train] epoch_loss : 0.54329 epoch_acc: 0.81\n"
     ]
    },
    {
     "data": {
      "application/vnd.jupyter.widget-view+json": {
       "model_id": "1421d3c91b1445f3ae24a085e45c6655",
       "version_major": 2,
       "version_minor": 0
      },
      "text/plain": [
       "HBox(children=(HTML(value=''), FloatProgress(value=0.0, max=30.0), HTML(value='')))"
      ]
     },
     "metadata": {},
     "output_type": "display_data"
    },
    {
     "name": "stdout",
     "output_type": "stream",
     "text": [
      "\n",
      "[Epoch : 8] [Phase : test] epoch_loss : 0.68659 epoch_acc: 0.78\n"
     ]
    },
    {
     "data": {
      "application/vnd.jupyter.widget-view+json": {
       "model_id": "da5ecb5cf6274793baaab47e5fb3b1fd",
       "version_major": 2,
       "version_minor": 0
      },
      "text/plain": [
       "HBox(children=(HTML(value=''), FloatProgress(value=0.0, max=119.0), HTML(value='')))"
      ]
     },
     "metadata": {},
     "output_type": "display_data"
    },
    {
     "name": "stdout",
     "output_type": "stream",
     "text": [
      "\n",
      "[Epoch : 9] [Phase : train] epoch_loss : 0.46603 epoch_acc: 0.84\n"
     ]
    },
    {
     "data": {
      "application/vnd.jupyter.widget-view+json": {
       "model_id": "478707439187460494d2b57bd804310f",
       "version_major": 2,
       "version_minor": 0
      },
      "text/plain": [
       "HBox(children=(HTML(value=''), FloatProgress(value=0.0, max=30.0), HTML(value='')))"
      ]
     },
     "metadata": {},
     "output_type": "display_data"
    },
    {
     "name": "stdout",
     "output_type": "stream",
     "text": [
      "\n",
      "[Epoch : 9] [Phase : test] epoch_loss : 0.76470 epoch_acc: 0.77\n"
     ]
    },
    {
     "data": {
      "application/vnd.jupyter.widget-view+json": {
       "model_id": "de0f69079db6415bbb5f03734ac4e9b6",
       "version_major": 2,
       "version_minor": 0
      },
      "text/plain": [
       "HBox(children=(HTML(value=''), FloatProgress(value=0.0, max=119.0), HTML(value='')))"
      ]
     },
     "metadata": {},
     "output_type": "display_data"
    },
    {
     "name": "stdout",
     "output_type": "stream",
     "text": [
      "\n",
      "[Epoch : 10] [Phase : train] epoch_loss : 0.41411 epoch_acc: 0.86\n"
     ]
    },
    {
     "data": {
      "application/vnd.jupyter.widget-view+json": {
       "model_id": "faae09cc838349f1a1bcb70ffa8990b4",
       "version_major": 2,
       "version_minor": 0
      },
      "text/plain": [
       "HBox(children=(HTML(value=''), FloatProgress(value=0.0, max=30.0), HTML(value='')))"
      ]
     },
     "metadata": {},
     "output_type": "display_data"
    },
    {
     "name": "stdout",
     "output_type": "stream",
     "text": [
      "\n",
      "[Epoch : 10] [Phase : test] epoch_loss : 1.07755 epoch_acc: 0.72\n",
      "early_stopped\n",
      "2091.4013710021973\n",
      "Done\n"
     ]
    }
   ],
   "source": [
    "model_ft = train_model(vggnet, dataloaders,criterion, optimizer, lr_scheduler,num_epochs=100)"
   ]
  },
  {
   "cell_type": "code",
   "execution_count": 62,
   "id": "9a68e481-5309-4912-ab8c-1b621f02eeeb",
   "metadata": {},
   "outputs": [],
   "source": [
    "valid_dataloader = DataLoader(eval_data,shuffle=False)\n",
    "def wrong_data(model):\n",
    "    wrong_pred = []\n",
    "\n",
    "    with torch.no_grad():\n",
    "        model.eval()\n",
    "        for i, (inputs, labels) in enumerate(valid_dataloader):\n",
    "            inputs = inputs.to(device)\n",
    "            outputs = model_ft(inputs)\n",
    "            _, preds = torch.max(outputs, 1)\n",
    "            \n",
    "            \n",
    "            wrong_pred.append([test.iloc[i][\"image_path\"],labels.cpu().numpy()[0],preds.cpu().numpy()[0]])\n",
    "    wrong_pred = pd.DataFrame(wrong_pred, columns=[\"image_path\",\"label\",\"pred\"])\n",
    "    return wrong_pred"
   ]
  },
  {
   "cell_type": "code",
   "execution_count": 63,
   "id": "9095cdf1-047a-460f-8577-418f3cc75ada",
   "metadata": {},
   "outputs": [],
   "source": [
    "ee = wrong_data(model_ft)"
   ]
  },
  {
   "cell_type": "code",
   "execution_count": 65,
   "id": "1c870744-c84b-4ef6-84a5-c16da2c1309f",
   "metadata": {},
   "outputs": [
    {
     "name": "stdout",
     "output_type": "stream",
     "text": [
      "0.5906113663783629\n"
     ]
    }
   ],
   "source": [
    "from sklearn.metrics import f1_score\n",
    "print(f1_score(ee[\"label\"],ee[\"pred\"],average=\"macro\"))"
   ]
  },
  {
   "cell_type": "code",
   "execution_count": 19,
   "id": "2706b26a-e139-485d-b5f4-7780d0f81a10",
   "metadata": {},
   "outputs": [],
   "source": [
    "class TestDataset(Dataset):\n",
    "    def __init__(self, img_paths, transform):\n",
    "        self.img_paths = img_paths\n",
    "        self.transform = transform\n",
    "\n",
    "    def __getitem__(self, index):\n",
    "        image = Image.open(self.img_paths[index])\n",
    "\n",
    "        if self.transform:\n",
    "            image = self.transform(image)\n",
    "        return image\n",
    "\n",
    "    def __len__(self):\n",
    "        return len(self.img_paths)"
   ]
  },
  {
   "cell_type": "code",
   "execution_count": 23,
   "id": "cd48cbdd-7346-482c-b0c3-e8c46d7e981b",
   "metadata": {},
   "outputs": [],
   "source": [
    "submission = pd.read_csv(\"../input/data/eval/info.csv\")\n",
    "image_paths = [os.path.join(\"../input/data/eval/images\",img_id) for img_id in submission.ImageID]\n",
    "\n",
    "test_data = TestDataset(image_paths,transform)\n",
    "test_dataloader = torch.utils.data.DataLoader(test_data,batch_size=128, shuffle=False)\n",
    "\n",
    "all_predictions = []\n",
    "for images in test_dataloader:\n",
    "    with torch.no_grad():\n",
    "        images = images.to(device)\n",
    "        pred = model_ft(images)\n",
    "        pred = pred.argmax(dim=-1)\n",
    "        all_predictions.extend(pred.cpu().numpy())\n",
    "submission['ans'] = all_predictions"
   ]
  },
  {
   "cell_type": "code",
   "execution_count": 24,
   "id": "cf47f039-572a-4ca0-9740-fd18c386f1c3",
   "metadata": {},
   "outputs": [
    {
     "data": {
      "text/html": [
       "<div>\n",
       "<style scoped>\n",
       "    .dataframe tbody tr th:only-of-type {\n",
       "        vertical-align: middle;\n",
       "    }\n",
       "\n",
       "    .dataframe tbody tr th {\n",
       "        vertical-align: top;\n",
       "    }\n",
       "\n",
       "    .dataframe thead th {\n",
       "        text-align: right;\n",
       "    }\n",
       "</style>\n",
       "<table border=\"1\" class=\"dataframe\">\n",
       "  <thead>\n",
       "    <tr style=\"text-align: right;\">\n",
       "      <th></th>\n",
       "      <th>ImageID</th>\n",
       "      <th>ans</th>\n",
       "    </tr>\n",
       "  </thead>\n",
       "  <tbody>\n",
       "    <tr>\n",
       "      <th>0</th>\n",
       "      <td>cbc5c6e168e63498590db46022617123f1fe1268.jpg</td>\n",
       "      <td>13</td>\n",
       "    </tr>\n",
       "    <tr>\n",
       "      <th>1</th>\n",
       "      <td>0e72482bf56b3581c081f7da2a6180b8792c7089.jpg</td>\n",
       "      <td>2</td>\n",
       "    </tr>\n",
       "    <tr>\n",
       "      <th>2</th>\n",
       "      <td>b549040c49190cedc41327748aeb197c1670f14d.jpg</td>\n",
       "      <td>16</td>\n",
       "    </tr>\n",
       "    <tr>\n",
       "      <th>3</th>\n",
       "      <td>4f9cb2a045c6d5b9e50ad3459ea7b791eb6e18bc.jpg</td>\n",
       "      <td>13</td>\n",
       "    </tr>\n",
       "    <tr>\n",
       "      <th>4</th>\n",
       "      <td>248428d9a4a5b6229a7081c32851b90cb8d38d0c.jpg</td>\n",
       "      <td>12</td>\n",
       "    </tr>\n",
       "    <tr>\n",
       "      <th>...</th>\n",
       "      <td>...</td>\n",
       "      <td>...</td>\n",
       "    </tr>\n",
       "    <tr>\n",
       "      <th>12595</th>\n",
       "      <td>d71d4570505d6af8f777690e63edfa8d85ea4476.jpg</td>\n",
       "      <td>2</td>\n",
       "    </tr>\n",
       "    <tr>\n",
       "      <th>12596</th>\n",
       "      <td>6cf1300e8e218716728d5820c0bab553306c2cfd.jpg</td>\n",
       "      <td>4</td>\n",
       "    </tr>\n",
       "    <tr>\n",
       "      <th>12597</th>\n",
       "      <td>8140edbba31c3a824e817e6d5fb95343199e2387.jpg</td>\n",
       "      <td>9</td>\n",
       "    </tr>\n",
       "    <tr>\n",
       "      <th>12598</th>\n",
       "      <td>030d439efe6fb5a7bafda45a393fc19f2bf57f54.jpg</td>\n",
       "      <td>1</td>\n",
       "    </tr>\n",
       "    <tr>\n",
       "      <th>12599</th>\n",
       "      <td>f1e0b9594ae9f72571f0a9dc67406ad41f2edab0.jpg</td>\n",
       "      <td>7</td>\n",
       "    </tr>\n",
       "  </tbody>\n",
       "</table>\n",
       "<p>12600 rows × 2 columns</p>\n",
       "</div>"
      ],
      "text/plain": [
       "                                            ImageID  ans\n",
       "0      cbc5c6e168e63498590db46022617123f1fe1268.jpg   13\n",
       "1      0e72482bf56b3581c081f7da2a6180b8792c7089.jpg    2\n",
       "2      b549040c49190cedc41327748aeb197c1670f14d.jpg   16\n",
       "3      4f9cb2a045c6d5b9e50ad3459ea7b791eb6e18bc.jpg   13\n",
       "4      248428d9a4a5b6229a7081c32851b90cb8d38d0c.jpg   12\n",
       "...                                             ...  ...\n",
       "12595  d71d4570505d6af8f777690e63edfa8d85ea4476.jpg    2\n",
       "12596  6cf1300e8e218716728d5820c0bab553306c2cfd.jpg    4\n",
       "12597  8140edbba31c3a824e817e6d5fb95343199e2387.jpg    9\n",
       "12598  030d439efe6fb5a7bafda45a393fc19f2bf57f54.jpg    1\n",
       "12599  f1e0b9594ae9f72571f0a9dc67406ad41f2edab0.jpg    7\n",
       "\n",
       "[12600 rows x 2 columns]"
      ]
     },
     "execution_count": 24,
     "metadata": {},
     "output_type": "execute_result"
    }
   ],
   "source": [
    "submission"
   ]
  },
  {
   "cell_type": "code",
   "execution_count": 111,
   "id": "44c4c219-d3ac-4c80-bbe9-3013a247058d",
   "metadata": {},
   "outputs": [],
   "source": [
    "torch.cuda.empty_cache()"
   ]
  },
  {
   "cell_type": "code",
   "execution_count": null,
   "id": "65c68d65-a7ce-41e0-abc9-ed46bd6bcc16",
   "metadata": {},
   "outputs": [],
   "source": []
  }
 ],
 "metadata": {
  "kernelspec": {
   "display_name": "Python 3 (ipykernel)",
   "language": "python",
   "name": "python3"
  },
  "language_info": {
   "codemirror_mode": {
    "name": "ipython",
    "version": 3
   },
   "file_extension": ".py",
   "mimetype": "text/x-python",
   "name": "python",
   "nbconvert_exporter": "python",
   "pygments_lexer": "ipython3",
   "version": "3.8.5"
  }
 },
 "nbformat": 4,
 "nbformat_minor": 5
}
