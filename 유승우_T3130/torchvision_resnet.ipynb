{
 "cells": [
  {
   "cell_type": "code",
   "execution_count": 1,
   "id": "42e88582-5f96-46e7-9f2f-7ab3f73b9692",
   "metadata": {},
   "outputs": [
    {
     "name": "stdout",
     "output_type": "stream",
     "text": [
      "cuda:0\n",
      "Tesla V100-SXM2-32GB\n"
     ]
    }
   ],
   "source": [
    "import os\n",
    "import random\n",
    "import time\n",
    "import copy\n",
    "from tqdm.notebook import tqdm\n",
    "from glob import glob\n",
    "\n",
    "import numpy as np\n",
    "import pandas as pd\n",
    "import matplotlib.pyplot as plt\n",
    "from PIL import Image\n",
    "\n",
    "import torch\n",
    "import torch.nn as nn\n",
    "import torch.optim as optim\n",
    "from torch.optim import lr_scheduler\n",
    "import torchvision\n",
    "from torchvision import datasets, transforms,models\n",
    "from torch.utils.data import Dataset, DataLoader\n",
    "from torch.utils.tensorboard import SummaryWriter\n",
    "from efficientnet_pytorch import EfficientNet\n",
    "\n",
    "from sklearn.model_selection import StratifiedKFold\n",
    "from sklearn.metrics import f1_score\n",
    "\n",
    "import warnings\n",
    "warnings.filterwarnings('ignore')\n",
    "\n",
    "device = torch.device('cuda:0' if torch.cuda.is_available() else 'cpu')\n",
    "print(device)\n",
    "print(torch.cuda.get_device_name(torch.cuda.current_device()))"
   ]
  },
  {
   "cell_type": "code",
   "execution_count": 2,
   "id": "32adfcdf-8aa7-4162-937d-452575a753a7",
   "metadata": {},
   "outputs": [],
   "source": [
    "train_df = pd.read_csv(\"../input/data/train/labeling_train.csv\")\n",
    "# test_image_path = glob('../input/data/eval/images/*')\n",
    "train_df = train_df.sort_values(\"id\")"
   ]
  },
  {
   "cell_type": "code",
   "execution_count": 3,
   "id": "3a09b536-d1c9-4a65-aef7-0c73026a4393",
   "metadata": {},
   "outputs": [],
   "source": [
    "train_df[\"age_group\"] = train_df[\"age\"].apply(lambda x: 0 if x < 30 else 1 if 30 <= x < 58 else 2)\n",
    "train_df[\"label\"] = train_df[\"mask\"]*6 + train_df[\"gender\"]*3 + train_df[\"age_group\"]"
   ]
  },
  {
   "cell_type": "code",
   "execution_count": 4,
   "id": "f7fbc819-d4cc-4d58-bad1-2691ae5fa6d0",
   "metadata": {},
   "outputs": [
    {
     "data": {
      "text/html": [
       "<div>\n",
       "<style scoped>\n",
       "    .dataframe tbody tr th:only-of-type {\n",
       "        vertical-align: middle;\n",
       "    }\n",
       "\n",
       "    .dataframe tbody tr th {\n",
       "        vertical-align: top;\n",
       "    }\n",
       "\n",
       "    .dataframe thead th {\n",
       "        text-align: right;\n",
       "    }\n",
       "</style>\n",
       "<table border=\"1\" class=\"dataframe\">\n",
       "  <thead>\n",
       "    <tr style=\"text-align: right;\">\n",
       "      <th></th>\n",
       "      <th>id</th>\n",
       "      <th>gender</th>\n",
       "      <th>race</th>\n",
       "      <th>age</th>\n",
       "      <th>age_group</th>\n",
       "      <th>mask</th>\n",
       "      <th>image_path</th>\n",
       "      <th>label</th>\n",
       "    </tr>\n",
       "  </thead>\n",
       "  <tbody>\n",
       "    <tr>\n",
       "      <th>13776</th>\n",
       "      <td>000005</td>\n",
       "      <td>1</td>\n",
       "      <td>Asian</td>\n",
       "      <td>58</td>\n",
       "      <td>2</td>\n",
       "      <td>1</td>\n",
       "      <td>../input/data/train/images/000005_female_Asian...</td>\n",
       "      <td>11</td>\n",
       "    </tr>\n",
       "    <tr>\n",
       "      <th>13782</th>\n",
       "      <td>000005</td>\n",
       "      <td>1</td>\n",
       "      <td>Asian</td>\n",
       "      <td>58</td>\n",
       "      <td>2</td>\n",
       "      <td>0</td>\n",
       "      <td>../input/data/train/images/000005_female_Asian...</td>\n",
       "      <td>5</td>\n",
       "    </tr>\n",
       "    <tr>\n",
       "      <th>13777</th>\n",
       "      <td>000005</td>\n",
       "      <td>1</td>\n",
       "      <td>Asian</td>\n",
       "      <td>58</td>\n",
       "      <td>2</td>\n",
       "      <td>0</td>\n",
       "      <td>../input/data/train/images/000005_female_Asian...</td>\n",
       "      <td>5</td>\n",
       "    </tr>\n",
       "    <tr>\n",
       "      <th>13781</th>\n",
       "      <td>000005</td>\n",
       "      <td>1</td>\n",
       "      <td>Asian</td>\n",
       "      <td>58</td>\n",
       "      <td>2</td>\n",
       "      <td>0</td>\n",
       "      <td>../input/data/train/images/000005_female_Asian...</td>\n",
       "      <td>5</td>\n",
       "    </tr>\n",
       "    <tr>\n",
       "      <th>13780</th>\n",
       "      <td>000005</td>\n",
       "      <td>1</td>\n",
       "      <td>Asian</td>\n",
       "      <td>58</td>\n",
       "      <td>2</td>\n",
       "      <td>0</td>\n",
       "      <td>../input/data/train/images/000005_female_Asian...</td>\n",
       "      <td>5</td>\n",
       "    </tr>\n",
       "    <tr>\n",
       "      <th>...</th>\n",
       "      <td>...</td>\n",
       "      <td>...</td>\n",
       "      <td>...</td>\n",
       "      <td>...</td>\n",
       "      <td>...</td>\n",
       "      <td>...</td>\n",
       "      <td>...</td>\n",
       "      <td>...</td>\n",
       "    </tr>\n",
       "    <tr>\n",
       "      <th>10661</th>\n",
       "      <td>005515</td>\n",
       "      <td>1</td>\n",
       "      <td>Asian</td>\n",
       "      <td>60</td>\n",
       "      <td>2</td>\n",
       "      <td>1</td>\n",
       "      <td>../input/data/train/images/005515_female_Asian...</td>\n",
       "      <td>11</td>\n",
       "    </tr>\n",
       "    <tr>\n",
       "      <th>10662</th>\n",
       "      <td>005515</td>\n",
       "      <td>1</td>\n",
       "      <td>Asian</td>\n",
       "      <td>60</td>\n",
       "      <td>2</td>\n",
       "      <td>0</td>\n",
       "      <td>../input/data/train/images/005515_female_Asian...</td>\n",
       "      <td>5</td>\n",
       "    </tr>\n",
       "    <tr>\n",
       "      <th>10663</th>\n",
       "      <td>005515</td>\n",
       "      <td>1</td>\n",
       "      <td>Asian</td>\n",
       "      <td>60</td>\n",
       "      <td>2</td>\n",
       "      <td>2</td>\n",
       "      <td>../input/data/train/images/005515_female_Asian...</td>\n",
       "      <td>17</td>\n",
       "    </tr>\n",
       "    <tr>\n",
       "      <th>10667</th>\n",
       "      <td>005515</td>\n",
       "      <td>1</td>\n",
       "      <td>Asian</td>\n",
       "      <td>60</td>\n",
       "      <td>2</td>\n",
       "      <td>0</td>\n",
       "      <td>../input/data/train/images/005515_female_Asian...</td>\n",
       "      <td>5</td>\n",
       "    </tr>\n",
       "    <tr>\n",
       "      <th>10665</th>\n",
       "      <td>005515</td>\n",
       "      <td>1</td>\n",
       "      <td>Asian</td>\n",
       "      <td>60</td>\n",
       "      <td>2</td>\n",
       "      <td>0</td>\n",
       "      <td>../input/data/train/images/005515_female_Asian...</td>\n",
       "      <td>5</td>\n",
       "    </tr>\n",
       "  </tbody>\n",
       "</table>\n",
       "<p>3052 rows × 8 columns</p>\n",
       "</div>"
      ],
      "text/plain": [
       "           id  gender   race  age  age_group  mask  \\\n",
       "13776  000005       1  Asian   58          2     1   \n",
       "13782  000005       1  Asian   58          2     0   \n",
       "13777  000005       1  Asian   58          2     0   \n",
       "13781  000005       1  Asian   58          2     0   \n",
       "13780  000005       1  Asian   58          2     0   \n",
       "...       ...     ...    ...  ...        ...   ...   \n",
       "10661  005515       1  Asian   60          2     1   \n",
       "10662  005515       1  Asian   60          2     0   \n",
       "10663  005515       1  Asian   60          2     2   \n",
       "10667  005515       1  Asian   60          2     0   \n",
       "10665  005515       1  Asian   60          2     0   \n",
       "\n",
       "                                              image_path  label  \n",
       "13776  ../input/data/train/images/000005_female_Asian...     11  \n",
       "13782  ../input/data/train/images/000005_female_Asian...      5  \n",
       "13777  ../input/data/train/images/000005_female_Asian...      5  \n",
       "13781  ../input/data/train/images/000005_female_Asian...      5  \n",
       "13780  ../input/data/train/images/000005_female_Asian...      5  \n",
       "...                                                  ...    ...  \n",
       "10661  ../input/data/train/images/005515_female_Asian...     11  \n",
       "10662  ../input/data/train/images/005515_female_Asian...      5  \n",
       "10663  ../input/data/train/images/005515_female_Asian...     17  \n",
       "10667  ../input/data/train/images/005515_female_Asian...      5  \n",
       "10665  ../input/data/train/images/005515_female_Asian...      5  \n",
       "\n",
       "[3052 rows x 8 columns]"
      ]
     },
     "execution_count": 4,
     "metadata": {},
     "output_type": "execute_result"
    }
   ],
   "source": [
    "train_df[train_df[\"age\"] >= 58]"
   ]
  },
  {
   "cell_type": "code",
   "execution_count": 108,
   "id": "6a80f347-2205-4f1f-a1be-9480ca368dc9",
   "metadata": {},
   "outputs": [],
   "source": [
    "# new_train_df = pd.read_csv(\"../input/data/train/augmentation.csv\")"
   ]
  },
  {
   "cell_type": "markdown",
   "id": "1a426613-157c-42ee-b83d-575d9262ddbf",
   "metadata": {
    "tags": []
   },
   "source": [
    "### Dataset, Data Loader"
   ]
  },
  {
   "cell_type": "code",
   "execution_count": 5,
   "id": "b5fceba6-5b36-4b32-ac9b-46b56891e8a0",
   "metadata": {},
   "outputs": [],
   "source": [
    "transform = transforms.Compose([\n",
    "    transforms.Resize((512, 384), Image.BILINEAR),\n",
    "    transforms.CenterCrop((320,256)),\n",
    "    transforms.ColorJitter(0.3,0.3,0.3,0.3),\n",
    "    transforms.ToTensor(),\n",
    "    transforms.Normalize(mean=(0.485, 0.456, 0.406), std=(0.229, 0.224, 0.225)),\n",
    "])"
   ]
  },
  {
   "cell_type": "code",
   "execution_count": 6,
   "id": "56df180b-9bda-42e4-808d-4b2dee98a668",
   "metadata": {},
   "outputs": [],
   "source": [
    "from sklearn.model_selection import StratifiedKFold\n",
    "skf = StratifiedKFold(n_splits=5, shuffle=True, random_state=42)\n",
    "\n",
    "for fold, (train_idx, val_idx) in enumerate(skf.split(train_df[\"id\"], train_df[\"label\"])):\n",
    "    train_split = train_df.loc[train_idx].reset_index(drop=True)\n",
    "    eval_split = train_df.loc[val_idx].reset_index(drop=True)"
   ]
  },
  {
   "cell_type": "code",
   "execution_count": 80,
   "id": "698c0fcf-64ee-4a9d-b581-dd4eef752cba",
   "metadata": {},
   "outputs": [],
   "source": [
    "# from sklearn.model_selection import train_test_split\n",
    "# train_split, eval_split = train_test_split(new_train_df, test_size=0.2, shuffle=False,random_state=42)\n",
    "\n",
    "# train_split.reset_index(drop=True,inplace=True)\n",
    "# eval_split.reset_index(drop=True,inplace=True)"
   ]
  },
  {
   "cell_type": "code",
   "execution_count": 7,
   "id": "7cb5b5cf-6d15-47ff-845f-6812c379a448",
   "metadata": {},
   "outputs": [],
   "source": [
    "class CustomDataset(Dataset):\n",
    "    def __init__(self, dataframe, transform):\n",
    "        self.X = dataframe[\"image_path\"]\n",
    "        self.y = dataframe[\"label\"]\n",
    "        self.transform = transform\n",
    "\n",
    "    def __getitem__(self, index):\n",
    "        image = Image.open(self.X.iloc[index])\n",
    "        label = self.y.iloc[index]\n",
    "\n",
    "        if self.transform:\n",
    "            image = self.transform(image)\n",
    "        return image, torch.tensor(label)\n",
    "\n",
    "    def __len__(self):\n",
    "        return len(self.X)"
   ]
  },
  {
   "cell_type": "code",
   "execution_count": 8,
   "id": "43b1be37-9a35-4c7d-ac31-b2b7d7f7b929",
   "metadata": {},
   "outputs": [],
   "source": [
    "train_data = CustomDataset(train_split,transform)\n",
    "eval_data = CustomDataset(eval_split,transform)"
   ]
  },
  {
   "cell_type": "code",
   "execution_count": 106,
   "id": "3abb138e-4228-42e7-b79b-d6848f9e0e2e",
   "metadata": {},
   "outputs": [],
   "source": [
    "# train_data = CustomDataset(train_df,transform)"
   ]
  },
  {
   "cell_type": "code",
   "execution_count": 107,
   "id": "833ffa83-818b-4e9d-a88b-83b3089a057c",
   "metadata": {},
   "outputs": [],
   "source": [
    "# train_dataloader = torch.utils.data.DataLoader(train_data,batch_size=128,shuffle=True,num_workers=1)"
   ]
  },
  {
   "cell_type": "code",
   "execution_count": 108,
   "id": "e2723874-6840-4f04-b72e-02862537ae7a",
   "metadata": {},
   "outputs": [],
   "source": [
    "# train_size = int(0.8 * len(train_data))\n",
    "# eval_size = len(train_data) - train_size\n",
    "# train, eval = torch.utils.data.random_split(train_data, [train_size, eval_size])\n",
    "# len(train), len(eval)"
   ]
  },
  {
   "cell_type": "code",
   "execution_count": 9,
   "id": "4af8856d-9509-46fc-9be6-91076963a1d8",
   "metadata": {},
   "outputs": [],
   "source": [
    "train_dataloader = torch.utils.data.DataLoader(train_data, batch_size=256, shuffle=True, num_workers=1)\n",
    "eval_dataloader = torch.utils.data.DataLoader(eval_data, batch_size=256, shuffle=True, num_workers=1)"
   ]
  },
  {
   "cell_type": "code",
   "execution_count": null,
   "id": "6fb5e3c7-b530-4ed2-a12e-0a1973b0dd2e",
   "metadata": {},
   "outputs": [],
   "source": [
    "for data in train_dataloader:\n",
    "    images,labels = data\n",
    "    plt.imshow(torchvision.utils.make_grid(images,nrow=10,normalize=True).permute(1,2,0))\n",
    "    plt.show()\n",
    "    break"
   ]
  },
  {
   "cell_type": "markdown",
   "id": "91f1d7f7-fab6-41af-b9b2-ad934822c102",
   "metadata": {},
   "source": [
    "### Model"
   ]
  },
  {
   "cell_type": "code",
   "execution_count": 10,
   "id": "0cd3eb57-591a-4f2b-979b-58968f721e9a",
   "metadata": {},
   "outputs": [],
   "source": [
    "# pretrained model 불러오기\n",
    "model = torchvision.models.resnet18(pretrained=True)"
   ]
  },
  {
   "cell_type": "code",
   "execution_count": 11,
   "id": "10964586-6d71-4479-a3b0-c5b40b8064e4",
   "metadata": {},
   "outputs": [],
   "source": [
    "num_classes = 18 # 데이터에 맞게 class 개수 변경\n",
    "fc_input = model.fc.in_features # fc layer의 input 수\n",
    "model.fc = nn.Linear(fc_input, num_classes) # fc layer 입출력 변경\n",
    "\n",
    "torch.nn.init.kaiming_uniform_(model.fc.weight) # he init으로 fc layer weight, bias 초기화\n",
    "stdv = 1/(fc_input**(1/2)) \n",
    "model.fc.bias.data.uniform_(-stdv,stdv)\n",
    "\n",
    "model.to(device) # GPU에 올리기\n",
    "\n",
    "dataloaders = {\n",
    "    \"train\" : train_dataloader,\n",
    "    \"test\" : eval_dataloader\n",
    "}"
   ]
  },
  {
   "cell_type": "code",
   "execution_count": 12,
   "id": "cfb1b81b-7773-44bf-86c9-4071577a0b66",
   "metadata": {},
   "outputs": [],
   "source": [
    "# Loss\n",
    "criterion = nn.CrossEntropyLoss()\n",
    "\n",
    "# optimizer\n",
    "optimizer = optim.Adam(model.parameters(), lr=0.0001)\n",
    "# optimizer = optim.SGD(model.parameters(), lr=0.001,momentum=0.9,weight_decay=0.0005)\n",
    "\n",
    "# learning rate\n",
    "from torch.optim import lr_scheduler\n",
    "scheduler = lr_scheduler.StepLR(optimizer, step_size=3, gamma=0.1)\n",
    "\n",
    "num_epochs = 10"
   ]
  },
  {
   "cell_type": "markdown",
   "id": "f81b4c00-936e-4de8-9bd4-9628e2a4005b",
   "metadata": {},
   "source": [
    "### Train"
   ]
  },
  {
   "cell_type": "code",
   "execution_count": 13,
   "id": "6987b681-db32-4795-bf70-1f0b946470e9",
   "metadata": {},
   "outputs": [],
   "source": [
    "def train_model(model, dataloaders,criterion,optimizer,scheduler,num_epochs):\n",
    "    start_time = time.time()\n",
    "    max_accuracy = 0\n",
    "    min_loss = int(1e9)\n",
    "    early_stop_point = 0 \n",
    "    early_stop_limit = 2\n",
    "    stop_epoch = True\n",
    "    best_model_wts = copy.deepcopy(model.state_dict())\n",
    "    history = {\"train_loss\":[],\"train_acc\":[],\"test_loss\":[],\"test_acc\":[]}\n",
    "    \n",
    "    \n",
    "    for epoch in range(num_epochs):\n",
    "        f1_list = []\n",
    "        for phase in ['train', 'test']:\n",
    "                if phase == 'train':\n",
    "                    model.train() \n",
    "                else:\n",
    "                    model.eval()   \n",
    "\n",
    "                running_loss = 0.0\n",
    "                running_acc = 0.0\n",
    "                \n",
    "                # 데이터 반복\n",
    "                for step, (inputs, labels) in enumerate(tqdm(dataloaders[phase])):\n",
    "                    inputs, labels = inputs.to(device), labels.to(device)\n",
    "\n",
    "                    # 매개변수 경사도 0으로 초기화\n",
    "                    optimizer.zero_grad()\n",
    "\n",
    "                    # 순전파\n",
    "                    # train에서만 연산 기록 추적\n",
    "                    with torch.set_grad_enabled(phase == 'train'):\n",
    "                        outputs = model(inputs)\n",
    "                        _, preds = torch.max(outputs, 1)\n",
    "                        loss = criterion(outputs, labels)\n",
    "        \n",
    "                        if phase == 'train':\n",
    "                            loss.backward()\n",
    "                            optimizer.step()\n",
    "                        \n",
    "                    running_loss += loss.item() * inputs.size(0)\n",
    "                    running_acc += torch.sum(preds == labels.data)\n",
    "                    f1_list.append(f1_score(labels.cpu(),preds.cpu(),average=\"macro\"))\n",
    "                    \n",
    "                if phase == \"train\":\n",
    "                    scheduler.step()\n",
    "\n",
    "                epoch_loss = running_loss / len(dataloaders[phase].dataset)\n",
    "                epoch_acc = running_acc / len(dataloaders[phase].dataset)\n",
    "                \n",
    "                print(f\"[Epoch : %d] [Phase : %s] epoch_loss : %.5f epoch_acc: %.2f\" % \n",
    "                      (epoch+1, phase, epoch_loss, epoch_acc))\n",
    "                \n",
    "                if phase == \"train\":\n",
    "                    history[\"train_loss\"].append(epoch_loss)\n",
    "                    history[\"train_acc\"].append(epoch_acc)\n",
    "                else:\n",
    "                    history[\"test_loss\"].append(epoch_loss)\n",
    "                    history[\"test_acc\"].append(epoch_acc)\n",
    "                            \n",
    "                if phase == \"test\" and max_accuracy <= epoch_acc:\n",
    "                    max_accuracy = epoch_acc\n",
    "                    best_model_wts = copy.deepcopy(model.state_dict())\n",
    "                    early_stop_point = 0\n",
    "#                     for g in optimizer.param_groups:\n",
    "#                             g['lr']/=10\n",
    "                    \n",
    "                    \n",
    "                elif phase == \"test\" and max_accuracy > epoch_acc:\n",
    "                    early_stop_point += 1\n",
    "                    \n",
    "                if phase == \"test\" and min_loss > epoch_loss:\n",
    "                    min_loss = epoch_loss\n",
    "                    \n",
    "                if early_stop_point == early_stop_limit:\n",
    "                    print(\"early_stopped\")\n",
    "                    stop_epoch = False\n",
    "                    break\n",
    "                \n",
    "        print(f\"[Epoch : %d] [Phase : %s] f1_score : %.5f\" % \n",
    "                      (epoch+1, phase, np.sum(f1_list) / len(f1_list)))\n",
    "        if stop_epoch == False:\n",
    "            break\n",
    "    print(time.time()-start_time)\n",
    "    model.load_state_dict(best_model_wts)\n",
    "    print(\"Done\")\n",
    "    return model,history"
   ]
  },
  {
   "cell_type": "code",
   "execution_count": 15,
   "id": "cbb450fb-d0eb-4d6e-9ece-75d0800f1504",
   "metadata": {},
   "outputs": [
    {
     "data": {
      "application/vnd.jupyter.widget-view+json": {
       "model_id": "98dd2e584d764451b3454249a5d7e0b3",
       "version_major": 2,
       "version_minor": 0
      },
      "text/plain": [
       "HBox(children=(HTML(value=''), FloatProgress(value=0.0, max=60.0), HTML(value='')))"
      ]
     },
     "metadata": {},
     "output_type": "display_data"
    },
    {
     "name": "stdout",
     "output_type": "stream",
     "text": [
      "\n",
      "[Epoch : 1] [Phase : train] epoch_loss : 0.31881 epoch_acc: 0.88\n"
     ]
    },
    {
     "data": {
      "application/vnd.jupyter.widget-view+json": {
       "model_id": "1c3f14cc6ba54040ade287ea4f643b92",
       "version_major": 2,
       "version_minor": 0
      },
      "text/plain": [
       "HBox(children=(HTML(value=''), FloatProgress(value=0.0, max=15.0), HTML(value='')))"
      ]
     },
     "metadata": {},
     "output_type": "display_data"
    },
    {
     "name": "stdout",
     "output_type": "stream",
     "text": [
      "\n",
      "[Epoch : 1] [Phase : test] epoch_loss : 0.31406 epoch_acc: 0.88\n",
      "[Epoch : 1] [Phase : test] f1_score : 0.78319\n"
     ]
    },
    {
     "data": {
      "application/vnd.jupyter.widget-view+json": {
       "model_id": "a05db24543f7429e891ba390f4512b41",
       "version_major": 2,
       "version_minor": 0
      },
      "text/plain": [
       "HBox(children=(HTML(value=''), FloatProgress(value=0.0, max=60.0), HTML(value='')))"
      ]
     },
     "metadata": {},
     "output_type": "display_data"
    },
    {
     "name": "stdout",
     "output_type": "stream",
     "text": [
      "\n",
      "[Epoch : 2] [Phase : train] epoch_loss : 0.19783 epoch_acc: 0.93\n"
     ]
    },
    {
     "data": {
      "application/vnd.jupyter.widget-view+json": {
       "model_id": "18ad4906c1f54cbb98c0b1f20147ae4c",
       "version_major": 2,
       "version_minor": 0
      },
      "text/plain": [
       "HBox(children=(HTML(value=''), FloatProgress(value=0.0, max=15.0), HTML(value='')))"
      ]
     },
     "metadata": {},
     "output_type": "display_data"
    },
    {
     "name": "stdout",
     "output_type": "stream",
     "text": [
      "\n",
      "[Epoch : 2] [Phase : test] epoch_loss : 0.24105 epoch_acc: 0.91\n",
      "[Epoch : 2] [Phase : test] f1_score : 0.85395\n"
     ]
    },
    {
     "data": {
      "application/vnd.jupyter.widget-view+json": {
       "model_id": "7410f8c90f20439cadff837cf954b126",
       "version_major": 2,
       "version_minor": 0
      },
      "text/plain": [
       "HBox(children=(HTML(value=''), FloatProgress(value=0.0, max=60.0), HTML(value='')))"
      ]
     },
     "metadata": {},
     "output_type": "display_data"
    },
    {
     "name": "stdout",
     "output_type": "stream",
     "text": [
      "\n",
      "[Epoch : 3] [Phase : train] epoch_loss : 0.11909 epoch_acc: 0.96\n"
     ]
    },
    {
     "data": {
      "application/vnd.jupyter.widget-view+json": {
       "model_id": "164e9a45433c41a499d321e919691b1f",
       "version_major": 2,
       "version_minor": 0
      },
      "text/plain": [
       "HBox(children=(HTML(value=''), FloatProgress(value=0.0, max=15.0), HTML(value='')))"
      ]
     },
     "metadata": {},
     "output_type": "display_data"
    },
    {
     "name": "stdout",
     "output_type": "stream",
     "text": [
      "\n",
      "[Epoch : 3] [Phase : test] epoch_loss : 0.19060 epoch_acc: 0.93\n",
      "[Epoch : 3] [Phase : test] f1_score : 0.91275\n"
     ]
    },
    {
     "data": {
      "application/vnd.jupyter.widget-view+json": {
       "model_id": "ca90d25255cb4ce1b4b76197258e037c",
       "version_major": 2,
       "version_minor": 0
      },
      "text/plain": [
       "HBox(children=(HTML(value=''), FloatProgress(value=0.0, max=60.0), HTML(value='')))"
      ]
     },
     "metadata": {},
     "output_type": "display_data"
    },
    {
     "name": "stdout",
     "output_type": "stream",
     "text": [
      "\n",
      "[Epoch : 4] [Phase : train] epoch_loss : 0.05494 epoch_acc: 0.99\n"
     ]
    },
    {
     "data": {
      "application/vnd.jupyter.widget-view+json": {
       "model_id": "fdbf449212d94b9098a77f85df6d82ec",
       "version_major": 2,
       "version_minor": 0
      },
      "text/plain": [
       "HBox(children=(HTML(value=''), FloatProgress(value=0.0, max=15.0), HTML(value='')))"
      ]
     },
     "metadata": {},
     "output_type": "display_data"
    },
    {
     "name": "stdout",
     "output_type": "stream",
     "text": [
      "\n",
      "[Epoch : 4] [Phase : test] epoch_loss : 0.16531 epoch_acc: 0.94\n",
      "[Epoch : 4] [Phase : test] f1_score : 0.96156\n"
     ]
    },
    {
     "data": {
      "application/vnd.jupyter.widget-view+json": {
       "model_id": "f8fecc70b2784d6f80b0d8d62bcbc603",
       "version_major": 2,
       "version_minor": 0
      },
      "text/plain": [
       "HBox(children=(HTML(value=''), FloatProgress(value=0.0, max=60.0), HTML(value='')))"
      ]
     },
     "metadata": {},
     "output_type": "display_data"
    },
    {
     "name": "stdout",
     "output_type": "stream",
     "text": [
      "\n",
      "[Epoch : 5] [Phase : train] epoch_loss : 0.04708 epoch_acc: 0.99\n"
     ]
    },
    {
     "data": {
      "application/vnd.jupyter.widget-view+json": {
       "model_id": "027bdb219c404333bc1634052e65a2fa",
       "version_major": 2,
       "version_minor": 0
      },
      "text/plain": [
       "HBox(children=(HTML(value=''), FloatProgress(value=0.0, max=15.0), HTML(value='')))"
      ]
     },
     "metadata": {},
     "output_type": "display_data"
    },
    {
     "name": "stdout",
     "output_type": "stream",
     "text": [
      "\n",
      "[Epoch : 5] [Phase : test] epoch_loss : 0.15780 epoch_acc: 0.94\n",
      "[Epoch : 5] [Phase : test] f1_score : 0.96538\n"
     ]
    },
    {
     "data": {
      "application/vnd.jupyter.widget-view+json": {
       "model_id": "4c4b3176baf845adab28cbf30b9c6079",
       "version_major": 2,
       "version_minor": 0
      },
      "text/plain": [
       "HBox(children=(HTML(value=''), FloatProgress(value=0.0, max=60.0), HTML(value='')))"
      ]
     },
     "metadata": {},
     "output_type": "display_data"
    },
    {
     "name": "stdout",
     "output_type": "stream",
     "text": [
      "\n",
      "[Epoch : 6] [Phase : train] epoch_loss : 0.04200 epoch_acc: 0.99\n"
     ]
    },
    {
     "data": {
      "application/vnd.jupyter.widget-view+json": {
       "model_id": "93191b289ce344c6b3833a65d79c8c00",
       "version_major": 2,
       "version_minor": 0
      },
      "text/plain": [
       "HBox(children=(HTML(value=''), FloatProgress(value=0.0, max=15.0), HTML(value='')))"
      ]
     },
     "metadata": {},
     "output_type": "display_data"
    },
    {
     "name": "stdout",
     "output_type": "stream",
     "text": [
      "\n",
      "[Epoch : 6] [Phase : test] epoch_loss : 0.15542 epoch_acc: 0.94\n",
      "[Epoch : 6] [Phase : test] f1_score : 0.96602\n"
     ]
    },
    {
     "data": {
      "application/vnd.jupyter.widget-view+json": {
       "model_id": "84ddf4fea577437d80ba360f3e56b322",
       "version_major": 2,
       "version_minor": 0
      },
      "text/plain": [
       "HBox(children=(HTML(value=''), FloatProgress(value=0.0, max=60.0), HTML(value='')))"
      ]
     },
     "metadata": {},
     "output_type": "display_data"
    },
    {
     "name": "stdout",
     "output_type": "stream",
     "text": [
      "\n",
      "[Epoch : 7] [Phase : train] epoch_loss : 0.03790 epoch_acc: 1.00\n"
     ]
    },
    {
     "data": {
      "application/vnd.jupyter.widget-view+json": {
       "model_id": "120c9eb0452f4ba2bff8e9f767454ef2",
       "version_major": 2,
       "version_minor": 0
      },
      "text/plain": [
       "HBox(children=(HTML(value=''), FloatProgress(value=0.0, max=15.0), HTML(value='')))"
      ]
     },
     "metadata": {},
     "output_type": "display_data"
    },
    {
     "name": "stdout",
     "output_type": "stream",
     "text": [
      "\n",
      "[Epoch : 7] [Phase : test] epoch_loss : 0.15480 epoch_acc: 0.95\n",
      "[Epoch : 7] [Phase : test] f1_score : 0.96823\n"
     ]
    },
    {
     "data": {
      "application/vnd.jupyter.widget-view+json": {
       "model_id": "47ef8b135afa4d6489cd453d61bb2619",
       "version_major": 2,
       "version_minor": 0
      },
      "text/plain": [
       "HBox(children=(HTML(value=''), FloatProgress(value=0.0, max=60.0), HTML(value='')))"
      ]
     },
     "metadata": {},
     "output_type": "display_data"
    },
    {
     "name": "stdout",
     "output_type": "stream",
     "text": [
      "\n",
      "[Epoch : 8] [Phase : train] epoch_loss : 0.03803 epoch_acc: 1.00\n"
     ]
    },
    {
     "data": {
      "application/vnd.jupyter.widget-view+json": {
       "model_id": "aafba3023b6a479d9bc81587cb95c30d",
       "version_major": 2,
       "version_minor": 0
      },
      "text/plain": [
       "HBox(children=(HTML(value=''), FloatProgress(value=0.0, max=15.0), HTML(value='')))"
      ]
     },
     "metadata": {},
     "output_type": "display_data"
    },
    {
     "name": "stdout",
     "output_type": "stream",
     "text": [
      "\n",
      "[Epoch : 8] [Phase : test] epoch_loss : 0.15932 epoch_acc: 0.94\n",
      "[Epoch : 8] [Phase : test] f1_score : 0.96925\n"
     ]
    },
    {
     "data": {
      "application/vnd.jupyter.widget-view+json": {
       "model_id": "c3f08e183f93468ca838d1e4d49478dd",
       "version_major": 2,
       "version_minor": 0
      },
      "text/plain": [
       "HBox(children=(HTML(value=''), FloatProgress(value=0.0, max=60.0), HTML(value='')))"
      ]
     },
     "metadata": {},
     "output_type": "display_data"
    },
    {
     "name": "stdout",
     "output_type": "stream",
     "text": [
      "\n",
      "[Epoch : 9] [Phase : train] epoch_loss : 0.03701 epoch_acc: 1.00\n"
     ]
    },
    {
     "data": {
      "application/vnd.jupyter.widget-view+json": {
       "model_id": "349f6cba083a409d9081948c78dab86e",
       "version_major": 2,
       "version_minor": 0
      },
      "text/plain": [
       "HBox(children=(HTML(value=''), FloatProgress(value=0.0, max=15.0), HTML(value='')))"
      ]
     },
     "metadata": {},
     "output_type": "display_data"
    },
    {
     "name": "stdout",
     "output_type": "stream",
     "text": [
      "\n",
      "[Epoch : 9] [Phase : test] epoch_loss : 0.15526 epoch_acc: 0.94\n",
      "early_stopped\n",
      "[Epoch : 9] [Phase : test] f1_score : 0.96781\n",
      "2620.1849372386932\n",
      "Done\n"
     ]
    }
   ],
   "source": [
    "model_ft,history = train_model(model, dataloaders,criterion, optimizer, scheduler,num_epochs)"
   ]
  },
  {
   "cell_type": "code",
   "execution_count": 16,
   "id": "27f94904-7b4b-4975-b65b-df3e3e9dc1d7",
   "metadata": {},
   "outputs": [
    {
     "data": {
      "text/plain": [
       "[<matplotlib.lines.Line2D at 0x7f53b6b9bc70>]"
      ]
     },
     "execution_count": 16,
     "metadata": {},
     "output_type": "execute_result"
    },
    {
     "data": {
      "image/png": "[encoded data removed]",
      "text/plain": [
       "<Figure size 432x288 with 1 Axes>"
      ]
     },
     "metadata": {
      "needs_background": "light"
     },
     "output_type": "display_data"
    }
   ],
   "source": [
    "plt.plot(history[\"test_loss\"])"
   ]
  },
  {
   "cell_type": "code",
   "execution_count": 17,
   "id": "cb9c5a70-e6bf-496b-988a-646004007270",
   "metadata": {},
   "outputs": [
    {
     "data": {
      "text/plain": [
       "[<matplotlib.lines.Line2D at 0x7f53b6498130>]"
      ]
     },
     "execution_count": 17,
     "metadata": {},
     "output_type": "execute_result"
    },
    {
     "data": {
      "image/png": "[encoded data removed]",
      "text/plain": [
       "<Figure size 432x288 with 1 Axes>"
      ]
     },
     "metadata": {
      "needs_background": "light"
     },
     "output_type": "display_data"
    }
   ],
   "source": [
    "plt.plot(history[\"test_acc\"])"
   ]
  },
  {
   "cell_type": "code",
   "execution_count": 18,
   "id": "6a0a1347-08e4-4d99-a208-e65d3e18c3d2",
   "metadata": {},
   "outputs": [
    {
     "data": {
      "text/plain": [
       "[<matplotlib.lines.Line2D at 0x7f53b646f280>]"
      ]
     },
     "execution_count": 18,
     "metadata": {},
     "output_type": "execute_result"
    },
    {
     "data": {
      "image/png": "[encoded data removed]",
      "text/plain": [
       "<Figure size 432x288 with 1 Axes>"
      ]
     },
     "metadata": {
      "needs_background": "light"
     },
     "output_type": "display_data"
    }
   ],
   "source": [
    "plt.plot(history[\"train_loss\"])"
   ]
  },
  {
   "cell_type": "code",
   "execution_count": 19,
   "id": "129d5e84-b423-4c83-8344-f8597ac6995c",
   "metadata": {},
   "outputs": [
    {
     "data": {
      "text/plain": [
       "[<matplotlib.lines.Line2D at 0x7f53b64399a0>]"
      ]
     },
     "execution_count": 19,
     "metadata": {},
     "output_type": "execute_result"
    },
    {
     "data": {
      "image/png": "[encoded data removed]",
      "text/plain": [
       "<Figure size 432x288 with 1 Axes>"
      ]
     },
     "metadata": {
      "needs_background": "light"
     },
     "output_type": "display_data"
    }
   ],
   "source": [
    "plt.plot(history[\"train_acc\"])"
   ]
  },
  {
   "cell_type": "markdown",
   "id": "bfd59a9e-bd25-4d3c-93c6-c7dbd478ac57",
   "metadata": {
    "tags": []
   },
   "source": [
    "### 이미지 출력"
   ]
  },
  {
   "cell_type": "code",
   "execution_count": 1,
   "id": "888a0ffe-845f-4c73-963e-51de4933b608",
   "metadata": {},
   "outputs": [],
   "source": [
    "def imshow(inp, title=None):\n",
    "    \"\"\"Imshow for Tensor.\"\"\"\n",
    "    inp = inp.numpy().transpose((1, 2, 0))\n",
    "    mean = np.array([0.485, 0.456, 0.406])\n",
    "    std = np.array([0.229, 0.224, 0.225])\n",
    "    inp = std * inp + mean\n",
    "    inp = np.clip(inp, 0, 1)\n",
    "    plt.imshow(inp)\n",
    "    if title is not None:\n",
    "        plt.title(title)\n",
    "    plt.pause(0.001)  # 갱신이 될 때까지 잠시 기다립니다.\n",
    "\n",
    "\n",
    "# # 학습 데이터의 배치를 얻습니다.\n",
    "# inputs, classes = next(iter(dataloaders['train']))\n",
    "\n",
    "# # 배치로부터 격자 형태의 이미지를 만듭니다.\n",
    "# out = torchvision.utils.make_grid(inputs)\n",
    "\n",
    "# imshow(out, title=[x for x in classes])"
   ]
  },
  {
   "cell_type": "code",
   "execution_count": 26,
   "id": "0f4c3b56-05dc-408f-af24-e8b437522b7d",
   "metadata": {},
   "outputs": [],
   "source": [
    "def visualize_model(model, num_images=6):\n",
    "    was_training = model.training\n",
    "    model.eval()\n",
    "    images_so_far = 0\n",
    "    fig = plt.figure()\n",
    "    wrong_answer = []\n",
    "\n",
    "    with torch.no_grad():\n",
    "        for i, (inputs, labels) in enumerate(eval_dataloader):\n",
    "            inputs = inputs.to(device)\n",
    "            labels = labels.to(device)\n",
    "\n",
    "            outputs = model_ft(inputs)\n",
    "            _, preds = torch.max(outputs, 1)\n",
    "            \n",
    "#             wrong_answer.append(eval_size[i],preds.cpu().numpy()[0], labels.cpu().numpy()[0])\n",
    "            for j in range(inputs.size()[0]):\n",
    "                images_so_far += 1\n",
    "                ax = plt.subplot(num_images//2, 2, images_so_far)\n",
    "                ax.axis('off')\n",
    "                ax.set_title('label : {},predicted: {}'.format(labels[j],preds[j]))\n",
    "                imshow(inputs.cpu().data[j])\n",
    "\n",
    "                if images_so_far == num_images:\n",
    "                    model.train(mode=was_training)\n",
    "                    return\n",
    "        model.train(mode=was_training)"
   ]
  },
  {
   "cell_type": "code",
   "execution_count": 27,
   "id": "33e7d11d-6c1c-4081-b876-518c62610219",
   "metadata": {},
   "outputs": [
    {
     "data": {
      "image/png": "[encoded data removed]",
      "text/plain": [
       "<Figure size 432x288 with 1 Axes>"
      ]
     },
     "metadata": {
      "needs_background": "light"
     },
     "output_type": "display_data"
    },
    {
     "data": {
      "image/png": "[encoded data removed]",
      "text/plain": [
       "<Figure size 432x288 with 1 Axes>"
      ]
     },
     "metadata": {
      "needs_background": "light"
     },
     "output_type": "display_data"
    },
    {
     "data": {
      "image/png": "[encoded data removed]",
      "text/plain": [
       "<Figure size 432x288 with 1 Axes>"
      ]
     },
     "metadata": {
      "needs_background": "light"
     },
     "output_type": "display_data"
    },
    {
     "data": {
      "image/png": "[encoded data removed]",
      "text/plain": [
       "<Figure size 432x288 with 1 Axes>"
      ]
     },
     "metadata": {
      "needs_background": "light"
     },
     "output_type": "display_data"
    },
    {
     "data": {
      "image/png": "[encoded data removed]",
      "text/plain": [
       "<Figure size 432x288 with 1 Axes>"
      ]
     },
     "metadata": {
      "needs_background": "light"
     },
     "output_type": "display_data"
    },
    {
     "data": {
      "image/png": "[encoded data removed]",
      "text/plain": [
       "<Figure size 432x288 with 1 Axes>"
      ]
     },
     "metadata": {
      "needs_background": "light"
     },
     "output_type": "display_data"
    }
   ],
   "source": [
    "visualize_model(model_ft,6)"
   ]
  },
  {
   "cell_type": "markdown",
   "id": "6fc2c701-9aa6-4c82-8042-d82bd45f74d8",
   "metadata": {},
   "source": [
    "### 학습 결과 검증"
   ]
  },
  {
   "cell_type": "code",
   "execution_count": 20,
   "id": "e7840b87-a2b3-498f-9a73-9a3bb61d1477",
   "metadata": {},
   "outputs": [],
   "source": [
    "valid_dataloader = DataLoader(eval_data,shuffle=False)"
   ]
  },
  {
   "cell_type": "code",
   "execution_count": 21,
   "id": "be8429fb-4ec1-4399-a43c-26af4f30d4ce",
   "metadata": {},
   "outputs": [],
   "source": [
    "def wrong_data(model):\n",
    "    wrong_pred = []\n",
    "\n",
    "    with torch.no_grad():\n",
    "        model.eval()\n",
    "        for i, (inputs, labels) in enumerate(valid_dataloader):\n",
    "            inputs = inputs.to(device)\n",
    "            outputs = model(inputs)\n",
    "            _, preds = torch.max(outputs, 1)\n",
    "            \n",
    "            \n",
    "            wrong_pred.append([eval_split.iloc[i][\"image_path\"],labels.cpu().numpy()[0],preds.cpu().numpy()[0]])\n",
    "    wrong_pred = pd.DataFrame(wrong_pred, columns=[\"image_path\",\"label\",\"pred\"])\n",
    "    return wrong_pred"
   ]
  },
  {
   "cell_type": "code",
   "execution_count": 22,
   "id": "046ed379-a73a-4677-a94d-27ca2d2a351a",
   "metadata": {},
   "outputs": [],
   "source": [
    "ee = wrong_data(model_ft)"
   ]
  },
  {
   "cell_type": "code",
   "execution_count": 23,
   "id": "6e725fc7-bced-4810-b75b-96fc08d325cb",
   "metadata": {},
   "outputs": [
    {
     "name": "stdout",
     "output_type": "stream",
     "text": [
      "0.90348761170967\n"
     ]
    }
   ],
   "source": [
    "from sklearn.metrics import f1_score\n",
    "print(f1_score(ee[\"label\"],ee[\"pred\"],average=\"macro\"))"
   ]
  },
  {
   "cell_type": "code",
   "execution_count": 133,
   "id": "131d61c0-4f2d-4096-85e1-c7eaa231424b",
   "metadata": {},
   "outputs": [],
   "source": [
    "wrong_answer = ee[ee[\"label\"] != ee[\"pred\"]]"
   ]
  },
  {
   "cell_type": "code",
   "execution_count": 134,
   "id": "b5f3eec7-8f78-409c-bc31-c6ba58f9c132",
   "metadata": {},
   "outputs": [],
   "source": [
    "wrong_answer.reset_index(drop=True,inplace=True)"
   ]
  },
  {
   "cell_type": "code",
   "execution_count": 135,
   "id": "89e8b0cc-8066-46ee-a508-d111b2d384dc",
   "metadata": {},
   "outputs": [
    {
     "data": {
      "text/html": [
       "<div>\n",
       "<style scoped>\n",
       "    .dataframe tbody tr th:only-of-type {\n",
       "        vertical-align: middle;\n",
       "    }\n",
       "\n",
       "    .dataframe tbody tr th {\n",
       "        vertical-align: top;\n",
       "    }\n",
       "\n",
       "    .dataframe thead th {\n",
       "        text-align: right;\n",
       "    }\n",
       "</style>\n",
       "<table border=\"1\" class=\"dataframe\">\n",
       "  <thead>\n",
       "    <tr style=\"text-align: right;\">\n",
       "      <th></th>\n",
       "      <th>image_path</th>\n",
       "      <th>label</th>\n",
       "      <th>pred</th>\n",
       "    </tr>\n",
       "  </thead>\n",
       "  <tbody>\n",
       "    <tr>\n",
       "      <th>0</th>\n",
       "      <td>../input/data/train/images/000038_female_Asian...</td>\n",
       "      <td>11</td>\n",
       "      <td>10</td>\n",
       "    </tr>\n",
       "    <tr>\n",
       "      <th>1</th>\n",
       "      <td>../input/data/train/images/003535_male_Asian_5...</td>\n",
       "      <td>7</td>\n",
       "      <td>8</td>\n",
       "    </tr>\n",
       "    <tr>\n",
       "      <th>2</th>\n",
       "      <td>../input/data/train/images/003535_male_Asian_5...</td>\n",
       "      <td>1</td>\n",
       "      <td>2</td>\n",
       "    </tr>\n",
       "    <tr>\n",
       "      <th>3</th>\n",
       "      <td>../input/data/train/images/000378_female_Asian...</td>\n",
       "      <td>4</td>\n",
       "      <td>5</td>\n",
       "    </tr>\n",
       "    <tr>\n",
       "      <th>4</th>\n",
       "      <td>../input/data/train/images/004313_female_Asian...</td>\n",
       "      <td>4</td>\n",
       "      <td>5</td>\n",
       "    </tr>\n",
       "    <tr>\n",
       "      <th>...</th>\n",
       "      <td>...</td>\n",
       "      <td>...</td>\n",
       "      <td>...</td>\n",
       "    </tr>\n",
       "    <tr>\n",
       "      <th>245</th>\n",
       "      <td>../input/data/train/images/005004_female_Asian...</td>\n",
       "      <td>16</td>\n",
       "      <td>15</td>\n",
       "    </tr>\n",
       "    <tr>\n",
       "      <th>246</th>\n",
       "      <td>../input/data/train/images/004417_female_Asian...</td>\n",
       "      <td>9</td>\n",
       "      <td>3</td>\n",
       "    </tr>\n",
       "    <tr>\n",
       "      <th>247</th>\n",
       "      <td>../input/data/train/images/000664_male_Asian_5...</td>\n",
       "      <td>13</td>\n",
       "      <td>17</td>\n",
       "    </tr>\n",
       "    <tr>\n",
       "      <th>248</th>\n",
       "      <td>../input/data/train/images/000767_male_Asian_5...</td>\n",
       "      <td>1</td>\n",
       "      <td>4</td>\n",
       "    </tr>\n",
       "    <tr>\n",
       "      <th>249</th>\n",
       "      <td>../input/data/train/images/004432_female_Asian...</td>\n",
       "      <td>10</td>\n",
       "      <td>4</td>\n",
       "    </tr>\n",
       "  </tbody>\n",
       "</table>\n",
       "<p>250 rows × 3 columns</p>\n",
       "</div>"
      ],
      "text/plain": [
       "                                            image_path  label  pred\n",
       "0    ../input/data/train/images/000038_female_Asian...     11    10\n",
       "1    ../input/data/train/images/003535_male_Asian_5...      7     8\n",
       "2    ../input/data/train/images/003535_male_Asian_5...      1     2\n",
       "3    ../input/data/train/images/000378_female_Asian...      4     5\n",
       "4    ../input/data/train/images/004313_female_Asian...      4     5\n",
       "..                                                 ...    ...   ...\n",
       "245  ../input/data/train/images/005004_female_Asian...     16    15\n",
       "246  ../input/data/train/images/004417_female_Asian...      9     3\n",
       "247  ../input/data/train/images/000664_male_Asian_5...     13    17\n",
       "248  ../input/data/train/images/000767_male_Asian_5...      1     4\n",
       "249  ../input/data/train/images/004432_female_Asian...     10     4\n",
       "\n",
       "[250 rows x 3 columns]"
      ]
     },
     "execution_count": 135,
     "metadata": {},
     "output_type": "execute_result"
    }
   ],
   "source": [
    "wrong_answer"
   ]
  },
  {
   "cell_type": "code",
   "execution_count": null,
   "id": "4f6cb439-868b-413e-b81d-d37e2dbdde10",
   "metadata": {},
   "outputs": [],
   "source": [
    "import matplotlib.image as img\n",
    "\n",
    "\n",
    "for i in range(8):\n",
    "    plt.subplot(3,3,i+1)\n",
    "    image = img.imread(wrong_answer[\"image_path\"][i])\n",
    "    plt.title((wrong_answer[\"label\"][i],wrong_answer[\"pred\"][i]),fontsize=10)\n",
    "    plt.axis('off')\n",
    "    plt.imshow(image)"
   ]
  },
  {
   "cell_type": "markdown",
   "id": "70863685-8681-489a-9e6e-9266bf1fd22b",
   "metadata": {},
   "source": [
    "### Inference"
   ]
  },
  {
   "cell_type": "code",
   "execution_count": 137,
   "id": "0a1aad37-eb0b-4f17-be64-85d4bd0845f9",
   "metadata": {},
   "outputs": [],
   "source": [
    "class TestDataset(Dataset):\n",
    "    def __init__(self, img_paths, transform):\n",
    "        self.img_paths = img_paths\n",
    "        self.transform = transform\n",
    "\n",
    "    def __getitem__(self, index):\n",
    "        image = Image.open(self.img_paths[index])\n",
    "\n",
    "        if self.transform:\n",
    "            image = self.transform(image)\n",
    "        return image\n",
    "\n",
    "    def __len__(self):\n",
    "        return len(self.img_paths)"
   ]
  },
  {
   "cell_type": "code",
   "execution_count": 138,
   "id": "1ff633cc-624c-45b2-b79c-79f8220082db",
   "metadata": {},
   "outputs": [],
   "source": [
    "submission = pd.read_csv(\"../input/data/eval/info.csv\")\n",
    "image_paths = [os.path.join(\"../input/data/eval/images\",img_id) for img_id in submission.ImageID]\n",
    "\n",
    "test_data = TestDataset(image_paths,transform)\n",
    "test_dataloader = torch.utils.data.DataLoader(test_data,batch_size=128, shuffle=False)\n",
    "\n",
    "all_predictions = []\n",
    "for images in test_dataloader:\n",
    "    with torch.no_grad():\n",
    "        images = images.to(device)\n",
    "        pred = model_ft(images)\n",
    "        pred = pred.argmax(dim=-1)\n",
    "        all_predictions.extend(pred.cpu().numpy())\n",
    "submission['ans'] = all_predictions"
   ]
  },
  {
   "cell_type": "code",
   "execution_count": null,
   "id": "edbcdb73-18b6-40f8-9308-b9a61099f3ae",
   "metadata": {},
   "outputs": [],
   "source": [
    "import matplotlib.image as img\n",
    "plt.figure(figsize=(15,15))\n",
    "\n",
    "for i in range(8):\n",
    "    plt.subplot(2,4,i+1)\n",
    "    image = img.imread(os.path.join(\"../input/data/eval/images\",submission[\"ImageID\"][i]))\n",
    "    plt.title(submission[\"ans\"][i],fontsize=20)\n",
    "    plt.axis('off')\n",
    "    plt.imshow(image)"
   ]
  },
  {
   "cell_type": "code",
   "execution_count": 141,
   "id": "5521855d-4cf6-4c8f-b8e8-a29c96f9bf8a",
   "metadata": {},
   "outputs": [
    {
     "name": "stdout",
     "output_type": "stream",
     "text": [
      "test inference is done!\n"
     ]
    }
   ],
   "source": [
    "# 제출할 파일을 저장합니다.\n",
    "submission.to_csv('../input/data/eval/submission8.csv', index=False)\n",
    "print('test inference is done!')"
   ]
  },
  {
   "cell_type": "code",
   "execution_count": 224,
   "id": "fc96e306-1e2a-4c38-9029-8bd8f53f7a9e",
   "metadata": {},
   "outputs": [],
   "source": [
    "torch.save(model_ff.state_dict(),\"./resnet2.pt\")"
   ]
  }
 ],
 "metadata": {
  "kernelspec": {
   "display_name": "Python 3 (ipykernel)",
   "language": "python",
   "name": "python3"
  },
  "language_info": {
   "codemirror_mode": {
    "name": "ipython",
    "version": 3
   },
   "file_extension": ".py",
   "mimetype": "text/x-python",
   "name": "python",
   "nbconvert_exporter": "python",
   "pygments_lexer": "ipython3",
   "version": "3.8.5"
  }
 },
 "nbformat": 4,
 "nbformat_minor": 5
}
